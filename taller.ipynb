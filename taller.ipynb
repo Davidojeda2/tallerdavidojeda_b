{
 "cells": [
  {
   "cell_type": "code",
   "execution_count": 7,
   "metadata": {},
   "outputs": [
    {
     "name": "stdout",
     "output_type": "stream",
     "text": [
      "Requirement already satisfied: numpy in /home/codespace/.local/lib/python3.10/site-packages (1.24.3)\n",
      "\n",
      "\u001b[1m[\u001b[0m\u001b[34;49mnotice\u001b[0m\u001b[1;39;49m]\u001b[0m\u001b[39;49m A new release of pip is available: \u001b[0m\u001b[31;49m23.1.1\u001b[0m\u001b[39;49m -> \u001b[0m\u001b[32;49m23.1.2\u001b[0m\n",
      "\u001b[1m[\u001b[0m\u001b[34;49mnotice\u001b[0m\u001b[1;39;49m]\u001b[0m\u001b[39;49m To update, run: \u001b[0m\u001b[32;49mpython -m pip install --upgrade pip\u001b[0m\n",
      "Requirement already satisfied: pandas in /home/codespace/.local/lib/python3.10/site-packages (2.0.1)\n",
      "Requirement already satisfied: python-dateutil>=2.8.2 in /home/codespace/.local/lib/python3.10/site-packages (from pandas) (2.8.2)\n",
      "Requirement already satisfied: pytz>=2020.1 in /home/codespace/.local/lib/python3.10/site-packages (from pandas) (2023.3)\n",
      "Requirement already satisfied: tzdata>=2022.1 in /home/codespace/.local/lib/python3.10/site-packages (from pandas) (2023.3)\n",
      "Requirement already satisfied: numpy>=1.21.0 in /home/codespace/.local/lib/python3.10/site-packages (from pandas) (1.24.3)\n",
      "Requirement already satisfied: six>=1.5 in /home/codespace/.local/lib/python3.10/site-packages (from python-dateutil>=2.8.2->pandas) (1.16.0)\n",
      "\n",
      "\u001b[1m[\u001b[0m\u001b[34;49mnotice\u001b[0m\u001b[1;39;49m]\u001b[0m\u001b[39;49m A new release of pip is available: \u001b[0m\u001b[31;49m23.1.1\u001b[0m\u001b[39;49m -> \u001b[0m\u001b[32;49m23.1.2\u001b[0m\n",
      "\u001b[1m[\u001b[0m\u001b[34;49mnotice\u001b[0m\u001b[1;39;49m]\u001b[0m\u001b[39;49m To update, run: \u001b[0m\u001b[32;49mpython -m pip install --upgrade pip\u001b[0m\n",
      "Collecting pretty\n",
      "  Downloading pretty-0.1.tar.gz (5.7 kB)\n",
      "  Preparing metadata (setup.py) ... \u001b[?25ldone\n",
      "\u001b[?25hCollecting table\n",
      "  Downloading table-0.0.4.tar.gz (2.6 kB)\n",
      "  Preparing metadata (setup.py) ... \u001b[?25ldone\n",
      "\u001b[?25hBuilding wheels for collected packages: pretty, table\n",
      "  Building wheel for pretty (setup.py) ... \u001b[?25ldone\n",
      "\u001b[?25h  Created wheel for pretty: filename=pretty-0.1-py3-none-any.whl size=6317 sha256=7777c6115a9e3a09df8b1f44113737c837bfcea322974478e317bf3c53725d40\n",
      "  Stored in directory: /home/codespace/.cache/pip/wheels/ab/fe/88/41574b6cae0ce88a5e399ad33ca9bd52ec3a70f696ed42b34f\n",
      "  Building wheel for table (setup.py) ... \u001b[?25ldone\n",
      "\u001b[?25h  Created wheel for table: filename=table-0.0.4-py3-none-any.whl size=3798 sha256=b6674a8ece115ee2f1052e6197340cf501f199cb8be7f1b9e59e18e1dc5894a6\n",
      "  Stored in directory: /home/codespace/.cache/pip/wheels/17/30/81/25fa0da9bf7b8d38ce14738a2e6b6fe6c6f3556225487db401\n",
      "Successfully built pretty table\n",
      "Installing collected packages: table, pretty\n",
      "Successfully installed pretty-0.1 table-0.0.4\n",
      "\n",
      "\u001b[1m[\u001b[0m\u001b[34;49mnotice\u001b[0m\u001b[1;39;49m]\u001b[0m\u001b[39;49m A new release of pip is available: \u001b[0m\u001b[31;49m23.1.1\u001b[0m\u001b[39;49m -> \u001b[0m\u001b[32;49m23.1.2\u001b[0m\n",
      "\u001b[1m[\u001b[0m\u001b[34;49mnotice\u001b[0m\u001b[1;39;49m]\u001b[0m\u001b[39;49m To update, run: \u001b[0m\u001b[32;49mpython -m pip install --upgrade pip\u001b[0m\n"
     ]
    }
   ],
   "source": [
    "!pip install numpy\n",
    "!pip install pandas\n",
    "!pip install pretty table"
   ]
  },
  {
   "cell_type": "code",
   "execution_count": 4,
   "metadata": {},
   "outputs": [
    {
     "name": "stdout",
     "output_type": "stream",
     "text": [
      "5\n",
      "9\n"
     ]
    }
   ],
   "source": [
    "def sumar(a,b):\n",
    "    return a + b\n",
    "\n",
    "print(sumar(2,3))\n",
    "print(sumar(4,5))"
   ]
  },
  {
   "cell_type": "code",
   "execution_count": 1,
   "metadata": {},
   "outputs": [
    {
     "name": "stdout",
     "output_type": "stream",
     "text": [
      "sqrt: 5.0\n",
      "Sumar: 5\n",
      "Restar: -1\n",
      "multiplicar: 6\n",
      "dividir:, 0.6666666666666666\n",
      "distancia: 3.605551275463989\n"
     ]
    }
   ],
   "source": [
    "import math\n",
    "import matematicas\n",
    "from geometria import distancia\n",
    "\n",
    "print(\"sqrt:\",math.sqrt(25))\n",
    "print(\"Sumar:\",matematicas.sumar(2, 3))\n",
    "print(\"Restar:\",matematicas.restar(2, 3))\n",
    "print(\"multiplicar:\",matematicas.multiplicar(2, 3))\n",
    "print(\"dividir:,\",matematicas.dividir(2, 3))\n",
    "print(\"distancia:\", distancia(1, 1, 3, 4))"
   ]
  },
  {
   "cell_type": "code",
   "execution_count": null,
   "metadata": {},
   "outputs": [],
   "source": []
  }
 ],
 "metadata": {
  "kernelspec": {
   "display_name": "Python 3",
   "language": "python",
   "name": "python3"
  },
  "language_info": {
   "codemirror_mode": {
    "name": "ipython",
    "version": 3
   },
   "file_extension": ".py",
   "mimetype": "text/x-python",
   "name": "python",
   "nbconvert_exporter": "python",
   "pygments_lexer": "ipython3",
   "version": "3.10.4"
  },
  "orig_nbformat": 4
 },
 "nbformat": 4,
 "nbformat_minor": 2
}
